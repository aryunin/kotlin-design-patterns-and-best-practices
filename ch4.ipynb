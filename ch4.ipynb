{
 "cells": [
  {
   "metadata": {
    "ExecuteTime": {
     "end_time": "2025-09-20T17:41:45.462182600Z",
     "start_time": "2025-09-20T17:41:45.394150300Z"
    }
   },
   "cell_type": "code",
   "source": [
    "object Command {\n",
    "    fun first() {\n",
    "        println(\"execute first command\")\n",
    "    }\n",
    "    fun second() {\n",
    "        println(\"execute first command\")\n",
    "    }\n",
    "}\n",
    "\n",
    "class Invoker {\n",
    "    var command = Command::first\n",
    "}\n",
    "\n",
    "val invoker = Invoker()\n",
    "invoker.command()\n",
    "invoker.command = Command::second\n",
    "invoker.command()"
   ],
   "outputs": [
    {
     "name": "stdout",
     "output_type": "stream",
     "text": [
      "execute first command\r\n",
      "execute first command\r\n"
     ]
    }
   ],
   "execution_count": 9
  }
 ],
 "metadata": {
  "kernelspec": {
   "display_name": "Kotlin",
   "language": "kotlin",
   "name": "kotlin"
  },
  "language_info": {
   "name": "kotlin",
   "version": "1.9.23",
   "mimetype": "text/x-kotlin",
   "file_extension": ".kt",
   "pygments_lexer": "kotlin",
   "codemirror_mode": "text/x-kotlin",
   "nbconvert_exporter": ""
  }
 },
 "nbformat": 4,
 "nbformat_minor": 0
}
