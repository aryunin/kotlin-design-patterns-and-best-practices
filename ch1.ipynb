{
 "cells": [
  {
   "metadata": {
    "ExecuteTime": {
     "end_time": "2025-09-14T17:57:10.456586400Z",
     "start_time": "2025-09-14T17:57:10.319590500Z"
    }
   },
   "cell_type": "code",
   "source": [
    "fun handleStrings(strings: Collection<String?>): List<String> {\n",
    "    val resultStrings = mutableListOf<String>()\n",
    "    for (string in strings) {\n",
    "        if (!string.isNullOrBlank()) {\n",
    "            for (word in string.split(\" \")) {\n",
    "                resultStrings += word\n",
    "                    .lowercase()\n",
    "                    .replaceFirstChar { it.uppercaseChar() }\n",
    "            }\n",
    "        } else {\n",
    "            println(\"Skipped\")\n",
    "        }\n",
    "    }\n",
    "    return resultStrings\n",
    "}\n",
    "\n",
    "println(handleStrings(listOf(\"hello wOrlD\", null, \"fRom\", null, \"kOtlin\")))"
   ],
   "outputs": [
    {
     "name": "stdout",
     "output_type": "stream",
     "text": [
      "Skipped\r\n",
      "Skipped\r\n",
      "[Hello, World, From, Kotlin]\r\n"
     ]
    }
   ],
   "execution_count": 4
  },
  {
   "metadata": {
    "ExecuteTime": {
     "end_time": "2025-09-14T18:04:02.469818500Z",
     "start_time": "2025-09-14T18:04:02.348819500Z"
    }
   },
   "cell_type": "code",
   "source": [
    "fun String.normalize() = split(\" \").map { word ->\n",
    "    word.lowercase().replaceFirstChar { char ->\n",
    "        char.uppercaseChar()\n",
    "    } \n",
    "}\n",
    "\n",
    "fun handleStrings(strings: Collection<String?>): List<String> {\n",
    "    val resultStrings = mutableListOf<String>()\n",
    "    for (string in strings) {\n",
    "        if (!string.isNullOrBlank()) {\n",
    "            resultStrings += string.normalize()\n",
    "        } else {\n",
    "            println(\"Skipped\")\n",
    "        }\n",
    "    }\n",
    "    return resultStrings\n",
    "}\n",
    "\n",
    "println(handleStrings(listOf(\"hello wOrlD\", null, \"fRom\", null, \"kOtlin\")))"
   ],
   "outputs": [
    {
     "name": "stdout",
     "output_type": "stream",
     "text": [
      "Skipped\r\n",
      "Skipped\r\n",
      "[Hello, World, From, Kotlin]\r\n"
     ]
    }
   ],
   "execution_count": 6
  }
 ],
 "metadata": {
  "kernelspec": {
   "display_name": "Kotlin",
   "language": "kotlin",
   "name": "kotlin"
  },
  "language_info": {
   "name": "kotlin",
   "version": "1.9.23",
   "mimetype": "text/x-kotlin",
   "file_extension": ".kt",
   "pygments_lexer": "kotlin",
   "codemirror_mode": "text/x-kotlin",
   "nbconvert_exporter": ""
  }
 },
 "nbformat": 4,
 "nbformat_minor": 0
}
